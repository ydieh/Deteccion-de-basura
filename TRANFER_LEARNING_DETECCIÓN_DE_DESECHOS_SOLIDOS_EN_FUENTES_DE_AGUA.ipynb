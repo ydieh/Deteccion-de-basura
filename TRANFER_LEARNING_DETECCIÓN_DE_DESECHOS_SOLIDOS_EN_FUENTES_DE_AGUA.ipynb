{
  "nbformat": 4,
  "nbformat_minor": 0,
  "metadata": {
    "colab": {
      "provenance": [],
      "collapsed_sections": [
        "1M8W1iABkr-D",
        "tWdP7bSjc-ae",
        "X73oIjnGXD90",
        "P-1-YrkwxCtN"
      ],
      "machine_shape": "hm",
      "include_colab_link": true
    },
    "kernelspec": {
      "name": "python3",
      "display_name": "Python 3"
    },
    "language_info": {
      "name": "python"
    },
    "gpuClass": "premium",
    "accelerator": "GPU"
  },
  "cells": [
    {
      "cell_type": "markdown",
      "metadata": {
        "id": "view-in-github",
        "colab_type": "text"
      },
      "source": [
        "<a href=\"https://colab.research.google.com/github/ydieh/Deteccion-de-basura/blob/main/TRANFER_LEARNING_DETECCI%C3%93N_DE_DESECHOS_SOLIDOS_EN_FUENTES_DE_AGUA.ipynb\" target=\"_parent\"><img src=\"https://colab.research.google.com/assets/colab-badge.svg\" alt=\"Open In Colab\"/></a>"
      ]
    },
    {
      "cell_type": "markdown",
      "source": [
        "## **DETECCIÓN DE DESECHOS SOLIDOS EN FUENTES DE AGUA CON TRANFER LEARNING**\n"
      ],
      "metadata": {
        "id": "nSxRRDlrxEOO"
      }
    },
    {
      "cell_type": "code",
      "source": [
        "!git clone https://github.com/ultralytics/yolov5 # clone repo\n",
        "%cd yolov5\n",
        "%pip install wandb -qr requirements.txt # install requirements.txt\n"
      ],
      "metadata": {
        "id": "xfS2fmm4k_UN"
      },
      "execution_count": null,
      "outputs": []
    },
    {
      "cell_type": "markdown",
      "source": [
        "# **Instalar dependencias**\n",
        "\n"
      ],
      "metadata": {
        "id": "P3HeRSz0mkLU"
      }
    },
    {
      "cell_type": "code",
      "source": [
        "# Clonamos el repositorio YOLOv5 \n",
        "!git clone https://github.com/ultralytics/yolov5  # clone\n",
        "%cd yolov5\n",
        "# Instalamos las dependencias necesarias\n",
        "%pip install -qr requirements.txt  # install\n",
        "\n",
        "import torch\n",
        "import utils\n",
        "display = utils.notebook_init()"
      ],
      "metadata": {
        "colab": {
          "base_uri": "https://localhost:8080/"
        },
        "id": "IpKBjr_xm5du",
        "outputId": "6e1c32db-a47a-4278-cccd-0f092245602d"
      },
      "execution_count": null,
      "outputs": [
        {
          "output_type": "stream",
          "name": "stderr",
          "text": [
            "YOLOv5 🚀 v7.0-116-g5c91dae Python-3.8.10 torch-1.13.1+cu116 CUDA:0 (NVIDIA A100-SXM4-40GB, 40514MiB)\n"
          ]
        },
        {
          "output_type": "stream",
          "name": "stdout",
          "text": [
            "Setup complete ✅ (12 CPUs, 83.5 GB RAM, 25.8/166.8 GB disk)\n"
          ]
        }
      ]
    },
    {
      "cell_type": "code",
      "source": [
        "#Importamos la libreria python.display para mostrar imágenes\n",
        "from IPython.display import Image, clear_output"
      ],
      "metadata": {
        "id": "UAWhKijjmiEG"
      },
      "execution_count": null,
      "outputs": []
    },
    {
      "cell_type": "markdown",
      "source": [
        "# **Subir el datasets de roboflow a colab**\n"
      ],
      "metadata": {
        "id": "XPSIFLTvPNoJ"
      }
    },
    {
      "cell_type": "code",
      "source": [
        "!pip install roboflow\n",
        "\n",
        "from roboflow import Roboflow\n",
        "rf = Roboflow(api_key=\"jDStiVlHOtm6ZIiOzRPp\")\n",
        "project = rf.workspace(\"alejandra\").project(\"desechos-xkeu9\")\n",
        "dataset = project.version(2).download(\"yolov5\")"
      ],
      "metadata": {
        "colab": {
          "base_uri": "https://localhost:8080/",
          "height": 1000
        },
        "id": "SzGJHcGv9l-d",
        "outputId": "1b06f460-c7b2-4565-c1b7-0e29fa8eac24"
      },
      "execution_count": null,
      "outputs": [
        {
          "output_type": "stream",
          "name": "stdout",
          "text": [
            "Looking in indexes: https://pypi.org/simple, https://us-python.pkg.dev/colab-wheels/public/simple/\n",
            "Collecting roboflow\n",
            "  Downloading roboflow-0.2.32-py3-none-any.whl (50 kB)\n",
            "\u001b[2K     \u001b[90m━━━━━━━━━━━━━━━━━━━━━━━━━━━━━━━━━━━━━━━━\u001b[0m \u001b[32m50.2/50.2 KB\u001b[0m \u001b[31m1.9 MB/s\u001b[0m eta \u001b[36m0:00:00\u001b[0m\n",
            "\u001b[?25hRequirement already satisfied: python-dateutil in /usr/local/lib/python3.8/dist-packages (from roboflow) (2.8.2)\n",
            "Requirement already satisfied: six in /usr/local/lib/python3.8/dist-packages (from roboflow) (1.15.0)\n",
            "Collecting wget\n",
            "  Downloading wget-3.2.zip (10 kB)\n",
            "  Preparing metadata (setup.py) ... \u001b[?25l\u001b[?25hdone\n",
            "Requirement already satisfied: requests in /usr/local/lib/python3.8/dist-packages (from roboflow) (2.25.1)\n",
            "Requirement already satisfied: Pillow>=7.1.2 in /usr/local/lib/python3.8/dist-packages (from roboflow) (8.4.0)\n",
            "Requirement already satisfied: matplotlib in /usr/local/lib/python3.8/dist-packages (from roboflow) (3.5.3)\n",
            "Requirement already satisfied: numpy>=1.18.5 in /usr/local/lib/python3.8/dist-packages (from roboflow) (1.22.4)\n",
            "Requirement already satisfied: tqdm>=4.41.0 in /usr/local/lib/python3.8/dist-packages (from roboflow) (4.64.1)\n",
            "Requirement already satisfied: opencv-python>=4.1.2 in /usr/local/lib/python3.8/dist-packages (from roboflow) (4.6.0.66)\n",
            "Collecting pyparsing==2.4.7\n",
            "  Downloading pyparsing-2.4.7-py2.py3-none-any.whl (67 kB)\n",
            "\u001b[2K     \u001b[90m━━━━━━━━━━━━━━━━━━━━━━━━━━━━━━━━━━━━━━━━\u001b[0m \u001b[32m67.8/67.8 KB\u001b[0m \u001b[31m6.3 MB/s\u001b[0m eta \u001b[36m0:00:00\u001b[0m\n",
            "\u001b[?25hRequirement already satisfied: PyYAML>=5.3.1 in /usr/local/lib/python3.8/dist-packages (from roboflow) (6.0)\n",
            "Requirement already satisfied: idna==2.10 in /usr/local/lib/python3.8/dist-packages (from roboflow) (2.10)\n",
            "Collecting requests-toolbelt\n",
            "  Downloading requests_toolbelt-0.10.1-py2.py3-none-any.whl (54 kB)\n",
            "\u001b[2K     \u001b[90m━━━━━━━━━━━━━━━━━━━━━━━━━━━━━━━━━━━━━━━━\u001b[0m \u001b[32m54.5/54.5 KB\u001b[0m \u001b[31m5.0 MB/s\u001b[0m eta \u001b[36m0:00:00\u001b[0m\n",
            "\u001b[?25hRequirement already satisfied: urllib3>=1.26.6 in /usr/local/lib/python3.8/dist-packages (from roboflow) (1.26.14)\n",
            "Requirement already satisfied: kiwisolver>=1.3.1 in /usr/local/lib/python3.8/dist-packages (from roboflow) (1.4.4)\n",
            "Collecting python-dotenv\n",
            "  Downloading python_dotenv-1.0.0-py3-none-any.whl (19 kB)\n",
            "Requirement already satisfied: certifi==2022.12.7 in /usr/local/lib/python3.8/dist-packages (from roboflow) (2022.12.7)\n",
            "Requirement already satisfied: chardet==4.0.0 in /usr/local/lib/python3.8/dist-packages (from roboflow) (4.0.0)\n",
            "Collecting cycler==0.10.0\n",
            "  Downloading cycler-0.10.0-py2.py3-none-any.whl (6.5 kB)\n",
            "Requirement already satisfied: fonttools>=4.22.0 in /usr/local/lib/python3.8/dist-packages (from matplotlib->roboflow) (4.38.0)\n",
            "Requirement already satisfied: packaging>=20.0 in /usr/local/lib/python3.8/dist-packages (from matplotlib->roboflow) (23.0)\n",
            "Building wheels for collected packages: wget\n",
            "  Building wheel for wget (setup.py) ... \u001b[?25l\u001b[?25hdone\n",
            "  Created wheel for wget: filename=wget-3.2-py3-none-any.whl size=9656 sha256=1604facff245a3a3cbc2e1cdae30339b2cc0fae2ed7cb612eff6e61051e62fe0\n",
            "  Stored in directory: /root/.cache/pip/wheels/bd/a8/c3/3cf2c14a1837a4e04bd98631724e81f33f462d86a1d895fae0\n",
            "Successfully built wget\n",
            "Installing collected packages: wget, python-dotenv, pyparsing, cycler, requests-toolbelt, roboflow\n",
            "  Attempting uninstall: pyparsing\n",
            "    Found existing installation: pyparsing 3.0.9\n",
            "    Uninstalling pyparsing-3.0.9:\n",
            "      Successfully uninstalled pyparsing-3.0.9\n",
            "  Attempting uninstall: cycler\n",
            "    Found existing installation: cycler 0.11.0\n",
            "    Uninstalling cycler-0.11.0:\n",
            "      Successfully uninstalled cycler-0.11.0\n",
            "Successfully installed cycler-0.10.0 pyparsing-2.4.7 python-dotenv-1.0.0 requests-toolbelt-0.10.1 roboflow-0.2.32 wget-3.2\n"
          ]
        },
        {
          "output_type": "display_data",
          "data": {
            "application/vnd.colab-display-data+json": {
              "pip_warning": {
                "packages": [
                  "cycler",
                  "pyparsing"
                ]
              }
            }
          },
          "metadata": {}
        },
        {
          "output_type": "stream",
          "name": "stdout",
          "text": [
            "loading Roboflow workspace...\n",
            "loading Roboflow project...\n",
            "Downloading Dataset Version Zip in desechos-2 to yolov5pytorch: 100% [356158393 / 356158393] bytes\n"
          ]
        },
        {
          "output_type": "stream",
          "name": "stderr",
          "text": [
            "Extracting Dataset Version Zip to desechos-2 in yolov5pytorch:: 100%|██████████| 12890/12890 [00:02<00:00, 6233.56it/s]\n"
          ]
        }
      ]
    },
    {
      "cell_type": "code",
      "source": [
        "!pip install torch==1.10.1 torchvision==0.11.2"
      ],
      "metadata": {
        "id": "QXVfsrE6wrpS",
        "colab": {
          "base_uri": "https://localhost:8080/"
        },
        "outputId": "84173953-74c4-44ee-d3eb-d514c7190498"
      },
      "execution_count": null,
      "outputs": [
        {
          "output_type": "stream",
          "name": "stdout",
          "text": [
            "Looking in indexes: https://pypi.org/simple, https://us-python.pkg.dev/colab-wheels/public/simple/\n",
            "Collecting torch==1.10.1\n",
            "  Downloading torch-1.10.1-cp38-cp38-manylinux1_x86_64.whl (881.9 MB)\n",
            "\u001b[2K     \u001b[90m━━━━━━━━━━━━━━━━━━━━━━━━━━━━━━━━━━━━━━━\u001b[0m \u001b[32m881.9/881.9 MB\u001b[0m \u001b[31m2.1 MB/s\u001b[0m eta \u001b[36m0:00:00\u001b[0m\n",
            "\u001b[?25hCollecting torchvision==0.11.2\n",
            "  Downloading torchvision-0.11.2-cp38-cp38-manylinux1_x86_64.whl (23.3 MB)\n",
            "\u001b[2K     \u001b[90m━━━━━━━━━━━━━━━━━━━━━━━━━━━━━━━━━━━━━━━━\u001b[0m \u001b[32m23.3/23.3 MB\u001b[0m \u001b[31m40.9 MB/s\u001b[0m eta \u001b[36m0:00:00\u001b[0m\n",
            "\u001b[?25hRequirement already satisfied: typing-extensions in /usr/local/lib/python3.8/dist-packages (from torch==1.10.1) (4.5.0)\n",
            "Requirement already satisfied: pillow!=8.3.0,>=5.3.0 in /usr/local/lib/python3.8/dist-packages (from torchvision==0.11.2) (8.4.0)\n",
            "Requirement already satisfied: numpy in /usr/local/lib/python3.8/dist-packages (from torchvision==0.11.2) (1.22.4)\n",
            "Installing collected packages: torch, torchvision\n",
            "  Attempting uninstall: torch\n",
            "    Found existing installation: torch 1.13.1+cu116\n",
            "    Uninstalling torch-1.13.1+cu116:\n",
            "      Successfully uninstalled torch-1.13.1+cu116\n",
            "  Attempting uninstall: torchvision\n",
            "    Found existing installation: torchvision 0.14.1+cu116\n",
            "    Uninstalling torchvision-0.14.1+cu116:\n",
            "      Successfully uninstalled torchvision-0.14.1+cu116\n",
            "\u001b[31mERROR: pip's dependency resolver does not currently take into account all the packages that are installed. This behaviour is the source of the following dependency conflicts.\n",
            "torchtext 0.14.1 requires torch==1.13.1, but you have torch 1.10.1 which is incompatible.\n",
            "torchaudio 0.13.1+cu116 requires torch==1.13.1, but you have torch 1.10.1 which is incompatible.\u001b[0m\u001b[31m\n",
            "\u001b[0mSuccessfully installed torch-1.10.1 torchvision-0.11.2\n"
          ]
        }
      ]
    },
    {
      "cell_type": "code",
      "source": [
        "#Ponemos en formato yolov5  el dataset para el entrenamiento\n",
        "!pip install -q roboflow\n",
        "from roboflow import Roboflow\n",
        "rf = Roboflow(model_format=\"yolov5\", notebook=\"roboflow-yolov5\")"
      ],
      "metadata": {
        "id": "7q9VxgMkn0vi",
        "colab": {
          "base_uri": "https://localhost:8080/"
        },
        "outputId": "10576496-52fa-47cf-fe0e-f296882c7ab7"
      },
      "execution_count": null,
      "outputs": [
        {
          "output_type": "stream",
          "name": "stdout",
          "text": [
            "upload and label your dataset, and get an API KEY here: https://app.roboflow.com/?model=yolov5&ref=roboflow-yolov5\n"
          ]
        }
      ]
    },
    {
      "cell_type": "code",
      "source": [
        "#Verificamos si el modelo yolov5 se cargo correctamente\n",
        "%cd /content/yolov5"
      ],
      "metadata": {
        "id": "3YmJLZ_Op6UC",
        "colab": {
          "base_uri": "https://localhost:8080/"
        },
        "outputId": "29ddc495-037d-424b-a056-bcebcce0fc7f"
      },
      "execution_count": null,
      "outputs": [
        {
          "output_type": "stream",
          "name": "stdout",
          "text": [
            "/content/yolov5\n"
          ]
        }
      ]
    },
    {
      "cell_type": "code",
      "source": [
        "#Este es el archivo YAML que Roboflow escribió para el dataset que estamos usando\n",
        "%cat {dataset.location}/data.yaml\n",
        "#Mostrara las etiquetas que tiene el dataset"
      ],
      "metadata": {
        "id": "1YbvddBaq1Dc",
        "colab": {
          "base_uri": "https://localhost:8080/"
        },
        "outputId": "9187f77c-425e-4ae1-a434-dd07dd768c65"
      },
      "execution_count": null,
      "outputs": [
        {
          "output_type": "stream",
          "name": "stdout",
          "text": [
            "names:\n",
            "- Bolsa\n",
            "- Botella\n",
            "- Plato\n",
            "- Red de pesca\n",
            "- Vaso\n",
            "nc: 5\n",
            "roboflow:\n",
            "  license: CC BY 4.0\n",
            "  project: desechos-xkeu9\n",
            "  url: https://universe.roboflow.com/alejandra/desechos-xkeu9/dataset/2\n",
            "  version: 2\n",
            "  workspace: alejandra\n",
            "test: ../test/images\n",
            "train: desechos-2/train/images\n",
            "val: desechos-2/valid/images\n"
          ]
        }
      ]
    },
    {
      "cell_type": "code",
      "source": [
        "#Importar librerias openCV, matplotlib\n",
        "import cv2\n",
        "import matplotlib.pyplot as plt\n",
        "import os"
      ],
      "metadata": {
        "id": "TTdXozGyXdTZ"
      },
      "execution_count": null,
      "outputs": []
    },
    {
      "cell_type": "code",
      "source": [
        "#Identificacion de los archivos de imagen\n",
        "dirCarpeta = '/content/yolov5/desechos-2/test/images'\n",
        "archivos = os.listdir(dirCarpeta)"
      ],
      "metadata": {
        "id": "8k7pFUmQXfS2"
      },
      "execution_count": null,
      "outputs": []
    },
    {
      "cell_type": "markdown",
      "source": [
        "Exploramos el datasets"
      ],
      "metadata": {
        "id": "wgWxde7Xo-r_"
      }
    },
    {
      "cell_type": "code",
      "source": [
        "#Arreglos vacios\n",
        "img_array = []\n",
        "titulos_array = []\n",
        "#Hacemos un for para leer las imagenes de entrenamiento\n",
        "for x in range(0,36):\n",
        "    #obtenemos la ruta de las imagenes de entrenamiento\n",
        "    dirArchivo = dirCarpeta +'/'+archivos[x]\n",
        "    #Cargar la imagen con openCV\n",
        "    imgBGR = cv2.imread(dirArchivo)\n",
        "    #Cambiar esacio de color BGR a RGB\n",
        "    imgRGB = cv2.cvtColor(imgBGR, cv2.COLOR_BGR2RGB)\n",
        "    #Arreglo con la informacion de las imagenes leidas\n",
        "    img_array.append(imgRGB)\n",
        "    #Extraer el nombre de la imagen sin la extension\n",
        "    img_ext = archivos[x]\n",
        "    nomImagen = img_ext[:-4]\n",
        "    #Nombres de imagenes ser[an un arreglo de titulos\n",
        "    titulos_array.append(nomImagen)\n",
        "    #Establecer filas y comulnas de la figura\n",
        "    plt.subplot(6,6,x+1)\n",
        "    #Ocultar valores numericos de los ejes\n",
        "    plt.xticks([])\n",
        "    plt.yticks([])\n",
        "    #Identifica que imagen mostrar\n",
        "    plt.imshow(img_array[x])\n",
        "#Mostrar imagen\n",
        "plt.show()"
      ],
      "metadata": {
        "id": "z6FjMXdvYBsO",
        "colab": {
          "base_uri": "https://localhost:8080/",
          "height": 252
        },
        "outputId": "c6e08f0a-a5b5-48f4-fba4-fdfa8650dea3"
      },
      "execution_count": null,
      "outputs": [
        {
          "output_type": "display_data",
          "data": {
            "text/plain": [
              "<Figure size 432x288 with 36 Axes>"
            ],
            "image/png": "[encoded data removed]"
          },
          "metadata": {}
        }
      ]
    },
    {
      "cell_type": "markdown",
      "source": [
        "# **Definimos el Modelo**\n",
        "1.   Definir la configuración y la arquitectura del modelo\n",
        "2.   Escribiremos un script yaml que defina los parámetros de nuestro modelo, como el número de clases, anclas y cada capa.\n",
        "\n",
        "Para entrenar el YOLOv5 hay 4 versiones.\n",
        "*   yolov5-s que es una versión pequeña\n",
        "*   yolov5-m que es una versión mediana\n",
        "*   yolov5-l que es una versión grande\n",
        "*   yolov5-x que es una versión extra grande\n",
        "\n",
        "Aqui utilizaremos la version de yolov5-s y congelaremos las capas de yolov5s\n",
        "\n",
        "\n"
      ],
      "metadata": {
        "id": "Y8IapV_hsXC7"
      }
    },
    {
      "cell_type": "code",
      "source": [
        "#Definimos el número de clases basado en YAML\n",
        "import yaml\n",
        "with open(dataset.location + \"/data.yaml\", 'r') as stream:\n",
        "    num_classes = str(yaml.safe_load(stream)['nc'])"
      ],
      "metadata": {
        "id": "L8q_M-strIDU"
      },
      "execution_count": null,
      "outputs": []
    },
    {
      "cell_type": "code",
      "source": [
        "#Esta es la configuración del modelo que usaremos es version pequeña de yolov5 \n",
        "%cat /content/yolov5/desechos-2/data.yaml"
      ],
      "metadata": {
        "id": "sgJOaIvltZdA",
        "colab": {
          "base_uri": "https://localhost:8080/"
        },
        "outputId": "1e84b7a8-e330-4097-b323-ed52d5ce7349"
      },
      "execution_count": null,
      "outputs": [
        {
          "output_type": "stream",
          "name": "stdout",
          "text": [
            "names:\n",
            "- Bolsa\n",
            "- Botella\n",
            "- Plato\n",
            "- Red de pesca\n",
            "- Vaso\n",
            "nc: 5\n",
            "roboflow:\n",
            "  license: CC BY 4.0\n",
            "  project: desechos-xkeu9\n",
            "  url: https://universe.roboflow.com/alejandra/desechos-xkeu9/dataset/2\n",
            "  version: 2\n",
            "  workspace: alejandra\n",
            "test: ../test/images\n",
            "train: desechos-2/train/images\n",
            "val: desechos-2/valid/images\n"
          ]
        }
      ]
    },
    {
      "cell_type": "code",
      "source": [
        "#Personalizar el archivo de escritura de iPython para que podamos escribir variables\n",
        "from IPython.core.magic import register_line_cell_magic\n",
        "\n",
        "@register_line_cell_magic\n",
        "def writetemplate(line, cell):\n",
        "    with open(line, 'w') as f:\n",
        "        f.write(cell.format(**globals()))"
      ],
      "metadata": {
        "id": "agz3iAzLt7mY"
      },
      "execution_count": null,
      "outputs": []
    },
    {
      "cell_type": "code",
      "source": [
        "#Personalizamos el archivo yaml con la version pequeña\n",
        "%%writetemplate /content/yolov5/models/custom_yolov5s.yaml\n",
        "\n",
        "# parameters\n",
        "nc: 80  # number of classes\n",
        "depth_multiple: 0.33  # model depth multiple\n",
        "width_multiple: 0.50  # layer channel multiple\n",
        "\n",
        "# anchors\n",
        "anchors:\n",
        "  - [10,13, 16,30, 33,23]  # P3/8\n",
        "  - [30,61, 62,45, 59,119]  # P4/16\n",
        "  - [116,90, 156,198, 373,326]  # P5/32\n",
        "\n",
        "# YOLOv5 backbone\n",
        "backbone:\n",
        "  # [from, number, module, args]\n",
        "  [[-1, 1, Focus, [64, 3]],  # 0-P1/2\n",
        "   [-1, 1, Conv, [128, 3, 2]],  # 1-P2/4\n",
        "   [-1, 3, C3, [128]],\n",
        "   [-1, 1, Conv, [256, 3, 2]],  # 3-P3/8\n",
        "   [-1, 9, C3, [256]],\n",
        "   [-1, 1, Conv, [512, 3, 2]],  # 5-P4/16\n",
        "   [-1, 9, C3, [512]],\n",
        "   [-1, 1, Conv, [1024, 3, 2]],  # 7-P5/32\n",
        "   [-1, 1, SPP, [1024, [5, 9, 13]]],\n",
        "   [-1, 3, C3, [1024, False]],  # 9\n",
        "  ]\n",
        "\n",
        "# YOLOv5 head\n",
        "head:\n",
        "  [[-1, 1, Conv, [512, 1, 1]],\n",
        "   [-1, 1, nn.Upsample, [None, 2, 'nearest']],\n",
        "   [[-1, 6], 1, Concat, [1]],  # cat backbone P4\n",
        "   [-1, 3, C3, [512, False]],  # 13\n",
        "\n",
        "   [-1, 1, Conv, [256, 1, 1]],\n",
        "   [-1, 1, nn.Upsample, [None, 2, 'nearest']],\n",
        "   [[-1, 4], 1, Concat, [1]],  # cat backbone P3\n",
        "   [-1, 3, C3, [256, False]],  # 17 (P3/8-small)\n",
        "\n",
        "   [-1, 1, Conv, [256, 3, 2]],\n",
        "   [[-1, 14], 1, Concat, [1]],  # cat head P4\n",
        "   [-1, 3, C3, [512, False]],  # 20 (P4/16-medium)\n",
        "\n",
        "   [-1, 1, Conv, [512, 3, 2]],\n",
        "   [[-1, 10], 1, Concat, [1]],  # cat head P5\n",
        "   [-1, 3, C3, [1024, False]],  # 23 (P5/32-large)\n",
        "\n",
        "   [[17, 20, 23], 1, Detect, [nc, anchors]],  # Detect(P3, P4, P5)\n",
        "  ]"
      ],
      "metadata": {
        "id": "wVpzCM57ukfT"
      },
      "execution_count": null,
      "outputs": []
    },
    {
      "cell_type": "markdown",
      "source": [
        "# **Entrenamos el modelo**\n",
        "Para entrenar el modelo tenemos que pasarle una serie de parametros el parametro mas importante para entrenarlo con transfer learning  es freeze que congela las capas en esta caso se congelaran 10 capas de la red neuronal, tambien se puede congelar todas las capas.\n",
        "### **Parametros**\n",
        "\n",
        "*   img: define el tamaño de la imagen de entrada\n",
        "*   lote: determinar el tamaño del lote\n",
        "*   épocas: define el número de épocas de entrenamiento. (Nota: ¡a menudo, más de 3000 son comunes aquí!)\n",
        "*   datos: establezca la ruta a nuestro archivo yaml\n",
        "*   freeze\n"
      ],
      "metadata": {
        "id": "NVErHfJsvC2n"
      }
    },
    {
      "cell_type": "code",
      "source": [
        "#Instalamos wandb WandB para hacer el seguimiento de sus hiperparámetros, \n",
        "#métricas del sistema y predicciones \n",
        "#para que pueda comparar modelos en vivo y compartir sus hallazgos.\n",
        "%pip install -q wandb\n",
        "import wandb\n",
        "wandb.login()"
      ],
      "metadata": {
        "id": "JNVP1b6HakCw",
        "colab": {
          "base_uri": "https://localhost:8080/",
          "height": 228
        },
        "outputId": "d5c49990-f8ba-497a-dadf-bf85c62c98c6"
      },
      "execution_count": null,
      "outputs": [
        {
          "output_type": "stream",
          "name": "stdout",
          "text": [
            "\u001b[2K     \u001b[90m━━━━━━━━━━━━━━━━━━━━━━━━━━━━━━━━━━━━━━━━\u001b[0m \u001b[32m2.0/2.0 MB\u001b[0m \u001b[31m24.5 MB/s\u001b[0m eta \u001b[36m0:00:00\u001b[0m\n",
            "\u001b[?25h  Preparing metadata (setup.py) ... \u001b[?25l\u001b[?25hdone\n",
            "\u001b[2K     \u001b[90m━━━━━━━━━━━━━━━━━━━━━━━━━━━━━━━━━━━━━━\u001b[0m \u001b[32m184.3/184.3 KB\u001b[0m \u001b[31m21.9 MB/s\u001b[0m eta \u001b[36m0:00:00\u001b[0m\n",
            "\u001b[?25h  Building wheel for pathtools (setup.py) ... \u001b[?25l\u001b[?25hdone\n"
          ]
        },
        {
          "output_type": "stream",
          "name": "stderr",
          "text": [
            "ERROR:wandb.jupyter:Failed to detect the name of this notebook, you can set it manually with the WANDB_NOTEBOOK_NAME environment variable to enable code saving.\n"
          ]
        },
        {
          "output_type": "display_data",
          "data": {
            "text/plain": [
              "<IPython.core.display.Javascript object>"
            ],
            "application/javascript": [
              "\n",
              "        window._wandbApiKey = new Promise((resolve, reject) => {\n",
              "            function loadScript(url) {\n",
              "            return new Promise(function(resolve, reject) {\n",
              "                let newScript = document.createElement(\"script\");\n",
              "                newScript.onerror = reject;\n",
              "                newScript.onload = resolve;\n",
              "                document.body.appendChild(newScript);\n",
              "                newScript.src = url;\n",
              "            });\n",
              "            }\n",
              "            loadScript(\"https://cdn.jsdelivr.net/npm/postmate/build/postmate.min.js\").then(() => {\n",
              "            const iframe = document.createElement('iframe')\n",
              "            iframe.style.cssText = \"width:0;height:0;border:none\"\n",
              "            document.body.appendChild(iframe)\n",
              "            const handshake = new Postmate({\n",
              "                container: iframe,\n",
              "                url: 'https://wandb.ai/authorize'\n",
              "            });\n",
              "            const timeout = setTimeout(() => reject(\"Couldn't auto authenticate\"), 5000)\n",
              "            handshake.then(function(child) {\n",
              "                child.on('authorize', data => {\n",
              "                    clearTimeout(timeout)\n",
              "                    resolve(data)\n",
              "                });\n",
              "            });\n",
              "            })\n",
              "        });\n",
              "    "
            ]
          },
          "metadata": {}
        },
        {
          "output_type": "stream",
          "name": "stderr",
          "text": [
            "\u001b[34m\u001b[1mwandb\u001b[0m: Logging into wandb.ai. (Learn how to deploy a W&B server locally: https://wandb.me/wandb-server)\n",
            "\u001b[34m\u001b[1mwandb\u001b[0m: You can find your API key in your browser here: https://wandb.ai/authorize\n",
            "wandb: Paste an API key from your profile and hit enter, or press ctrl+c to quit:"
          ]
        },
        {
          "name": "stdout",
          "output_type": "stream",
          "text": [
            " ··········\n"
          ]
        },
        {
          "output_type": "stream",
          "name": "stderr",
          "text": [
            "\u001b[34m\u001b[1mwandb\u001b[0m: Appending key for api.wandb.ai to your netrc file: /root/.netrc\n"
          ]
        },
        {
          "output_type": "execute_result",
          "data": {
            "text/plain": [
              "True"
            ]
          },
          "metadata": {},
          "execution_count": 16
        }
      ]
    },
    {
      "cell_type": "code",
      "source": [
        "!python /content/yolov5/train.py --img 416 --batch 16  --epochs 100 --data /content/yolov5/desechos-2/data.yaml --weights yolov5s.pt --freeze 15"
      ],
      "metadata": {
        "id": "cv9UV6EA96pj",
        "colab": {
          "base_uri": "https://localhost:8080/"
        },
        "outputId": "ccdc50ec-894b-47bb-fc92-04838e52a62b"
      },
      "execution_count": null,
      "outputs": [
        {
          "output_type": "stream",
          "name": "stdout",
          "text": [
            "\u001b[34m\u001b[1mwandb\u001b[0m: WARNING ⚠️ wandb is deprecated and will be removed in a future release. See supported integrations at https://github.com/ultralytics/yolov5#integrations.\n",
            "\u001b[34m\u001b[1mwandb\u001b[0m: Currently logged in as: \u001b[33mydieh\u001b[0m. Use \u001b[1m`wandb login --relogin`\u001b[0m to force relogin\n",
            "\u001b[34m\u001b[1mtrain: \u001b[0mweights=yolov5s.pt, cfg=, data=/content/yolov5/desechos-2/data.yaml, hyp=data/hyps/hyp.scratch-low.yaml, epochs=100, batch_size=16, imgsz=416, rect=False, resume=False, nosave=False, noval=False, noautoanchor=False, noplots=False, evolve=None, bucket=, cache=None, image_weights=False, device=, multi_scale=False, single_cls=False, optimizer=SGD, sync_bn=False, workers=8, project=runs/train, name=exp, exist_ok=False, quad=False, cos_lr=False, label_smoothing=0.0, patience=100, freeze=[15], save_period=-1, seed=0, local_rank=-1, entity=None, upload_dataset=False, bbox_interval=-1, artifact_alias=latest\n",
            "\u001b[34m\u001b[1mgithub: \u001b[0mup to date with https://github.com/ultralytics/yolov5 ✅\n",
            "YOLOv5 🚀 v7.0-116-g5c91dae Python-3.8.10 torch-1.10.1+cu102 CUDA:0 (NVIDIA A100-SXM4-40GB, 40514MiB)\n",
            "\n",
            "\u001b[34m\u001b[1mhyperparameters: \u001b[0mlr0=0.01, lrf=0.01, momentum=0.937, weight_decay=0.0005, warmup_epochs=3.0, warmup_momentum=0.8, warmup_bias_lr=0.1, box=0.05, cls=0.5, cls_pw=1.0, obj=1.0, obj_pw=1.0, iou_t=0.2, anchor_t=4.0, fl_gamma=0.0, hsv_h=0.015, hsv_s=0.7, hsv_v=0.4, degrees=0.0, translate=0.1, scale=0.5, shear=0.0, perspective=0.0, flipud=0.0, fliplr=0.5, mosaic=1.0, mixup=0.0, copy_paste=0.0\n",
            "\u001b[34m\u001b[1mClearML: \u001b[0mrun 'pip install clearml' to automatically track, visualize and remotely train YOLOv5 🚀 in ClearML\n",
            "\u001b[34m\u001b[1mComet: \u001b[0mrun 'pip install comet_ml' to automatically track and visualize YOLOv5 🚀 runs in Comet\n",
            "\u001b[34m\u001b[1mTensorBoard: \u001b[0mStart with 'tensorboard --logdir runs/train', view at http://localhost:6006/\n",
            "2023-03-01 06:59:42.278733: I tensorflow/core/platform/cpu_feature_guard.cc:193] This TensorFlow binary is optimized with oneAPI Deep Neural Network Library (oneDNN) to use the following CPU instructions in performance-critical operations:  AVX2 AVX512F AVX512_VNNI FMA\n",
            "To enable them in other operations, rebuild TensorFlow with the appropriate compiler flags.\n",
            "2023-03-01 06:59:42.429889: I tensorflow/core/util/port.cc:104] oneDNN custom operations are on. You may see slightly different numerical results due to floating-point round-off errors from different computation orders. To turn them off, set the environment variable `TF_ENABLE_ONEDNN_OPTS=0`.\n",
            "2023-03-01 06:59:43.206509: W tensorflow/compiler/xla/stream_executor/platform/default/dso_loader.cc:64] Could not load dynamic library 'libnvinfer.so.7'; dlerror: libnvinfer.so.7: cannot open shared object file: No such file or directory; LD_LIBRARY_PATH: /usr/local/lib/python3.8/dist-packages/cv2/../../lib64:/usr/local/lib/python3.8/dist-packages/cv2/../../lib64:/usr/lib64-nvidia\n",
            "2023-03-01 06:59:43.206615: W tensorflow/compiler/xla/stream_executor/platform/default/dso_loader.cc:64] Could not load dynamic library 'libnvinfer_plugin.so.7'; dlerror: libnvinfer_plugin.so.7: cannot open shared object file: No such file or directory; LD_LIBRARY_PATH: /usr/local/lib/python3.8/dist-packages/cv2/../../lib64:/usr/local/lib/python3.8/dist-packages/cv2/../../lib64:/usr/lib64-nvidia\n",
            "2023-03-01 06:59:43.206635: W tensorflow/compiler/tf2tensorrt/utils/py_utils.cc:38] TF-TRT Warning: Cannot dlopen some TensorRT libraries. If you would like to use Nvidia GPU with TensorRT, please make sure the missing libraries mentioned above are installed properly.\n",
            "\u001b[34m\u001b[1mwandb\u001b[0m: Tracking run with wandb version 0.13.10\n",
            "\u001b[34m\u001b[1mwandb\u001b[0m: Run data is saved locally in \u001b[35m\u001b[1m/content/yolov5/wandb/run-20230301_065944-1xe1znwe\u001b[0m\n",
            "\u001b[34m\u001b[1mwandb\u001b[0m: Run \u001b[1m`wandb offline`\u001b[0m to turn off syncing.\n",
            "\u001b[34m\u001b[1mwandb\u001b[0m: Syncing run \u001b[33mexalted-haze-11\u001b[0m\n",
            "\u001b[34m\u001b[1mwandb\u001b[0m: ⭐️ View project at \u001b[34m\u001b[4mhttps://wandb.ai/ydieh/YOLOv5\u001b[0m\n",
            "\u001b[34m\u001b[1mwandb\u001b[0m: 🚀 View run at \u001b[34m\u001b[4mhttps://wandb.ai/ydieh/YOLOv5/runs/1xe1znwe\u001b[0m\n",
            "Overriding model.yaml nc=80 with nc=5\n",
            "\n",
            "                 from  n    params  module                                  arguments                     \n",
            "  0                -1  1      3520  models.common.Conv                      [3, 32, 6, 2, 2]              \n",
            "  1                -1  1     18560  models.common.Conv                      [32, 64, 3, 2]                \n",
            "  2                -1  1     18816  models.common.C3                        [64, 64, 1]                   \n",
            "  3                -1  1     73984  models.common.Conv                      [64, 128, 3, 2]               \n",
            "  4                -1  2    115712  models.common.C3                        [128, 128, 2]                 \n",
            "  5                -1  1    295424  models.common.Conv                      [128, 256, 3, 2]              \n",
            "  6                -1  3    625152  models.common.C3                        [256, 256, 3]                 \n",
            "  7                -1  1   1180672  models.common.Conv                      [256, 512, 3, 2]              \n",
            "  8                -1  1   1182720  models.common.C3                        [512, 512, 1]                 \n",
            "  9                -1  1    656896  models.common.SPPF                      [512, 512, 5]                 \n",
            " 10                -1  1    131584  models.common.Conv                      [512, 256, 1, 1]              \n",
            " 11                -1  1         0  torch.nn.modules.upsampling.Upsample    [None, 2, 'nearest']          \n",
            " 12           [-1, 6]  1         0  models.common.Concat                    [1]                           \n",
            " 13                -1  1    361984  models.common.C3                        [512, 256, 1, False]          \n",
            " 14                -1  1     33024  models.common.Conv                      [256, 128, 1, 1]              \n",
            " 15                -1  1         0  torch.nn.modules.upsampling.Upsample    [None, 2, 'nearest']          \n",
            " 16           [-1, 4]  1         0  models.common.Concat                    [1]                           \n",
            " 17                -1  1     90880  models.common.C3                        [256, 128, 1, False]          \n",
            " 18                -1  1    147712  models.common.Conv                      [128, 128, 3, 2]              \n",
            " 19          [-1, 14]  1         0  models.common.Concat                    [1]                           \n",
            " 20                -1  1    296448  models.common.C3                        [256, 256, 1, False]          \n",
            " 21                -1  1    590336  models.common.Conv                      [256, 256, 3, 2]              \n",
            " 22          [-1, 10]  1         0  models.common.Concat                    [1]                           \n",
            " 23                -1  1   1182720  models.common.C3                        [512, 512, 1, False]          \n",
            " 24      [17, 20, 23]  1     26970  models.yolo.Detect                      [5, [[10, 13, 16, 30, 33, 23], [30, 61, 62, 45, 59, 119], [116, 90, 156, 198, 373, 326]], [128, 256, 512]]\n",
            "Model summary: 214 layers, 7033114 parameters, 7033114 gradients, 16.0 GFLOPs\n",
            "\n",
            "Transferred 343/349 items from yolov5s.pt\n",
            "\u001b[34m\u001b[1mAMP: \u001b[0mchecks failed ❌, disabling Automatic Mixed Precision. See https://github.com/ultralytics/yolov5/issues/7908\n",
            "freezing model.0.conv.weight\n",
            "freezing model.0.bn.weight\n",
            "freezing model.0.bn.bias\n",
            "freezing model.1.conv.weight\n",
            "freezing model.1.bn.weight\n",
            "freezing model.1.bn.bias\n",
            "freezing model.2.cv1.conv.weight\n",
            "freezing model.2.cv1.bn.weight\n",
            "freezing model.2.cv1.bn.bias\n",
            "freezing model.2.cv2.conv.weight\n",
            "freezing model.2.cv2.bn.weight\n",
            "freezing model.2.cv2.bn.bias\n",
            "freezing model.2.cv3.conv.weight\n",
            "freezing model.2.cv3.bn.weight\n",
            "freezing model.2.cv3.bn.bias\n",
            "freezing model.2.m.0.cv1.conv.weight\n",
            "freezing model.2.m.0.cv1.bn.weight\n",
            "freezing model.2.m.0.cv1.bn.bias\n",
            "freezing model.2.m.0.cv2.conv.weight\n",
            "freezing model.2.m.0.cv2.bn.weight\n",
            "freezing model.2.m.0.cv2.bn.bias\n",
            "freezing model.3.conv.weight\n",
            "freezing model.3.bn.weight\n",
            "freezing model.3.bn.bias\n",
            "freezing model.4.cv1.conv.weight\n",
            "freezing model.4.cv1.bn.weight\n",
            "freezing model.4.cv1.bn.bias\n",
            "freezing model.4.cv2.conv.weight\n",
            "freezing model.4.cv2.bn.weight\n",
            "freezing model.4.cv2.bn.bias\n",
            "freezing model.4.cv3.conv.weight\n",
            "freezing model.4.cv3.bn.weight\n",
            "freezing model.4.cv3.bn.bias\n",
            "freezing model.4.m.0.cv1.conv.weight\n",
            "freezing model.4.m.0.cv1.bn.weight\n",
            "freezing model.4.m.0.cv1.bn.bias\n",
            "freezing model.4.m.0.cv2.conv.weight\n",
            "freezing model.4.m.0.cv2.bn.weight\n",
            "freezing model.4.m.0.cv2.bn.bias\n",
            "freezing model.4.m.1.cv1.conv.weight\n",
            "freezing model.4.m.1.cv1.bn.weight\n",
            "freezing model.4.m.1.cv1.bn.bias\n",
            "freezing model.4.m.1.cv2.conv.weight\n",
            "freezing model.4.m.1.cv2.bn.weight\n",
            "freezing model.4.m.1.cv2.bn.bias\n",
            "freezing model.5.conv.weight\n",
            "freezing model.5.bn.weight\n",
            "freezing model.5.bn.bias\n",
            "freezing model.6.cv1.conv.weight\n",
            "freezing model.6.cv1.bn.weight\n",
            "freezing model.6.cv1.bn.bias\n",
            "freezing model.6.cv2.conv.weight\n",
            "freezing model.6.cv2.bn.weight\n",
            "freezing model.6.cv2.bn.bias\n",
            "freezing model.6.cv3.conv.weight\n",
            "freezing model.6.cv3.bn.weight\n",
            "freezing model.6.cv3.bn.bias\n",
            "freezing model.6.m.0.cv1.conv.weight\n",
            "freezing model.6.m.0.cv1.bn.weight\n",
            "freezing model.6.m.0.cv1.bn.bias\n",
            "freezing model.6.m.0.cv2.conv.weight\n",
            "freezing model.6.m.0.cv2.bn.weight\n",
            "freezing model.6.m.0.cv2.bn.bias\n",
            "freezing model.6.m.1.cv1.conv.weight\n",
            "freezing model.6.m.1.cv1.bn.weight\n",
            "freezing model.6.m.1.cv1.bn.bias\n",
            "freezing model.6.m.1.cv2.conv.weight\n",
            "freezing model.6.m.1.cv2.bn.weight\n",
            "freezing model.6.m.1.cv2.bn.bias\n",
            "freezing model.6.m.2.cv1.conv.weight\n",
            "freezing model.6.m.2.cv1.bn.weight\n",
            "freezing model.6.m.2.cv1.bn.bias\n",
            "freezing model.6.m.2.cv2.conv.weight\n",
            "freezing model.6.m.2.cv2.bn.weight\n",
            "freezing model.6.m.2.cv2.bn.bias\n",
            "freezing model.7.conv.weight\n",
            "freezing model.7.bn.weight\n",
            "freezing model.7.bn.bias\n",
            "freezing model.8.cv1.conv.weight\n",
            "freezing model.8.cv1.bn.weight\n",
            "freezing model.8.cv1.bn.bias\n",
            "freezing model.8.cv2.conv.weight\n",
            "freezing model.8.cv2.bn.weight\n",
            "freezing model.8.cv2.bn.bias\n",
            "freezing model.8.cv3.conv.weight\n",
            "freezing model.8.cv3.bn.weight\n",
            "freezing model.8.cv3.bn.bias\n",
            "freezing model.8.m.0.cv1.conv.weight\n",
            "freezing model.8.m.0.cv1.bn.weight\n",
            "freezing model.8.m.0.cv1.bn.bias\n",
            "freezing model.8.m.0.cv2.conv.weight\n",
            "freezing model.8.m.0.cv2.bn.weight\n",
            "freezing model.8.m.0.cv2.bn.bias\n",
            "freezing model.9.cv1.conv.weight\n",
            "freezing model.9.cv1.bn.weight\n",
            "freezing model.9.cv1.bn.bias\n",
            "freezing model.9.cv2.conv.weight\n",
            "freezing model.9.cv2.bn.weight\n",
            "freezing model.9.cv2.bn.bias\n",
            "freezing model.10.conv.weight\n",
            "freezing model.10.bn.weight\n",
            "freezing model.10.bn.bias\n",
            "freezing model.13.cv1.conv.weight\n",
            "freezing model.13.cv1.bn.weight\n",
            "freezing model.13.cv1.bn.bias\n",
            "freezing model.13.cv2.conv.weight\n",
            "freezing model.13.cv2.bn.weight\n",
            "freezing model.13.cv2.bn.bias\n",
            "freezing model.13.cv3.conv.weight\n",
            "freezing model.13.cv3.bn.weight\n",
            "freezing model.13.cv3.bn.bias\n",
            "freezing model.13.m.0.cv1.conv.weight\n",
            "freezing model.13.m.0.cv1.bn.weight\n",
            "freezing model.13.m.0.cv1.bn.bias\n",
            "freezing model.13.m.0.cv2.conv.weight\n",
            "freezing model.13.m.0.cv2.bn.weight\n",
            "freezing model.13.m.0.cv2.bn.bias\n",
            "freezing model.14.conv.weight\n",
            "freezing model.14.bn.weight\n",
            "freezing model.14.bn.bias\n",
            "\u001b[34m\u001b[1moptimizer:\u001b[0m SGD(lr=0.01) with parameter groups 57 weight(decay=0.0), 60 weight(decay=0.0005), 60 bias\n",
            "\u001b[34m\u001b[1malbumentations: \u001b[0mBlur(p=0.01, blur_limit=(3, 7)), MedianBlur(p=0.01, blur_limit=(3, 7)), ToGray(p=0.01), CLAHE(p=0.01, clip_limit=(1, 4.0), tile_grid_size=(8, 8))\n",
            "\u001b[34m\u001b[1mtrain: \u001b[0mScanning /content/yolov5/desechos-2/train/labels.cache... 5511 images, 2 backgrounds, 0 corrupt: 100% 5511/5511 [00:00<?, ?it/s]\n",
            "\u001b[34m\u001b[1mval: \u001b[0mScanning /content/yolov5/desechos-2/valid/labels.cache... 615 images, 0 backgrounds, 0 corrupt: 100% 615/615 [00:00<?, ?it/s]\n",
            "\u001b[34m\u001b[1mAutoAnchor: \u001b[0mERROR: CUDA error: no kernel image is available for execution on the device\n",
            "CUDA kernel errors might be asynchronously reported at some other API call,so the stacktrace below might be incorrect.\n",
            "For debugging consider passing CUDA_LAUNCH_BLOCKING=1.\n",
            "Traceback (most recent call last):\n",
            "  File \"/content/yolov5/train.py\", line 640, in <module>\n",
            "    main(opt)\n",
            "  File \"/content/yolov5/train.py\", line 529, in main\n",
            "    train(opt.hyp, opt, device, callbacks)\n",
            "  File \"/content/yolov5/train.py\", line 226, in train\n",
            "    model.half().float()  # pre-reduce anchor precision\n",
            "  File \"/usr/local/lib/python3.8/dist-packages/torch/nn/modules/module.py\", line 757, in half\n",
            "    return self._apply(lambda t: t.half() if t.is_floating_point() else t)\n",
            "  File \"/content/yolov5/models/yolo.py\", line 155, in _apply\n",
            "    self = super()._apply(fn)\n",
            "  File \"/usr/local/lib/python3.8/dist-packages/torch/nn/modules/module.py\", line 570, in _apply\n",
            "    module._apply(fn)\n",
            "  File \"/usr/local/lib/python3.8/dist-packages/torch/nn/modules/module.py\", line 570, in _apply\n",
            "    module._apply(fn)\n",
            "  File \"/usr/local/lib/python3.8/dist-packages/torch/nn/modules/module.py\", line 570, in _apply\n",
            "    module._apply(fn)\n",
            "  File \"/usr/local/lib/python3.8/dist-packages/torch/nn/modules/module.py\", line 593, in _apply\n",
            "    param_applied = fn(param)\n",
            "  File \"/usr/local/lib/python3.8/dist-packages/torch/nn/modules/module.py\", line 757, in <lambda>\n",
            "    return self._apply(lambda t: t.half() if t.is_floating_point() else t)\n",
            "RuntimeError: CUDA error: no kernel image is available for execution on the device\n",
            "CUDA kernel errors might be asynchronously reported at some other API call,so the stacktrace below might be incorrect.\n",
            "For debugging consider passing CUDA_LAUNCH_BLOCKING=1.\n"
          ]
        }
      ]
    },
    {
      "cell_type": "markdown",
      "source": [
        "### **Evaluamos el como le fue al entrenamiento**\n",
        "Para comprender mejor los resultados, resumamos las pérdidas y las métricas de YOLOv5. La función de pérdida de YOLO se compone de tres partes:\n",
        "\n",
        "1.   box_loss — pérdida de regresión del cuadro delimitador (error cuadrático medio).\n",
        "2.   obj_loss — la confianza de la presencia del objeto es la pérdida de objetividad \n",
        "3. cls_loss — the classification loss (Cross Entropy)\n",
        "\n",
        "La precisión mide cuánto de las predicciones de bbox son correctas (Verdaderos positivos / (Verdaderos positivos + Falsos positivos)), y Recall mide cuánto de los verdaderos bbox se predijeron correctamente (Verdaderos positivos / (Verdaderos positivos + Falsos negativos)). 'mAP_0.5' es la precisión media media ( mAP ) en el umbral IoU (intersección sobre unión) de 0,5. 'mAP_0.5:0.95' es el promedio de mAP sobre diferentes umbrales de IoU, que van de 0,5 a 0,95."
      ],
      "metadata": {
        "id": "nascMDRHjBMo"
      }
    },
    {
      "cell_type": "code",
      "source": [
        "# we can also output some older school graphs if the tensor board isn't working for whatever reason... \n",
        "from utils.plots import plot_results  # plot results.txt as results.png\n",
        "Image(filename='/content/yolov5/runs/train/exp2/results.png', width=1000)  # view results.png"
      ],
      "metadata": {
        "id": "nZkerz_1wYfI"
      },
      "execution_count": null,
      "outputs": []
    },
    {
      "cell_type": "markdown",
      "source": [
        "### **Matrix de Confusion**"
      ],
      "metadata": {
        "id": "YpdkRRI9julR"
      }
    },
    {
      "cell_type": "code",
      "source": [
        "\n",
        "Image(filename='/content/yolov5/runs/train/exp2/confusion_matrix.png', width=900)"
      ],
      "metadata": {
        "id": "ORkG0SYrj0jD"
      },
      "execution_count": null,
      "outputs": []
    },
    {
      "cell_type": "markdown",
      "source": [
        "### **Curva de Presicion**"
      ],
      "metadata": {
        "id": "7r854fe0kDkD"
      }
    },
    {
      "cell_type": "code",
      "source": [
        "Image(filename='/content/yolov5/runs/train/exp2/P_curve.png', width=900)"
      ],
      "metadata": {
        "id": "DXiKr70XkB15"
      },
      "execution_count": null,
      "outputs": []
    },
    {
      "cell_type": "markdown",
      "source": [
        "### **Curva de Recall**\n",
        "\n",
        "mide cuánto de los verdaderos bbox se predijeron correctamente (Verdaderos positivos / (Verdaderos positivos + Falsos negativos))."
      ],
      "metadata": {
        "id": "1M8W1iABkr-D"
      }
    },
    {
      "cell_type": "code",
      "source": [
        "Image(filename='/content/yolov5/runs/train/exp2/R_curve.png', width=900)"
      ],
      "metadata": {
        "id": "UlYwfsjJkpbl"
      },
      "execution_count": null,
      "outputs": []
    },
    {
      "cell_type": "markdown",
      "source": [
        "### **Probamos el modelo con los datos de test**"
      ],
      "metadata": {
        "id": "tWdP7bSjc-ae"
      }
    },
    {
      "cell_type": "code",
      "source": [
        "# Mostramos un ejemplo con datos de entrenamiento\n",
        "Image(filename='/content/yolov5/runs/train/exp2/val_batch1_labels.jpg', width=900)"
      ],
      "metadata": {
        "id": "5kb21cRsnjRw"
      },
      "execution_count": null,
      "outputs": []
    },
    {
      "cell_type": "code",
      "source": [
        "# Mostramos un ejemplo con la prediccion de la imagen anterior\n",
        "Image(filename='/content/yolov5/runs/train/exp2/val_batch1_pred.jpg', width=900)"
      ],
      "metadata": {
        "id": "-yPk4K5moQ6S"
      },
      "execution_count": null,
      "outputs": []
    },
    {
      "cell_type": "code",
      "source": [
        "# Mostramos un ejemplo de entrenamiento con datos de aumentados\n",
        "Image(filename='/content/yolov5/runs/train/exp2/train_batch2.jpg', width=900)"
      ],
      "metadata": {
        "id": "tHkcQKTGd-3w"
      },
      "execution_count": null,
      "outputs": []
    },
    {
      "cell_type": "markdown",
      "source": [
        "### *Probamos el modelo*\n"
      ],
      "metadata": {
        "id": "X73oIjnGXD90"
      }
    },
    {
      "cell_type": "code",
      "source": [
        "#Probamos el modelo con una imagen de Test "
      ],
      "metadata": {
        "id": "ZI7ptyNVZ9dG"
      },
      "execution_count": null,
      "outputs": []
    },
    {
      "cell_type": "code",
      "source": [
        "#Mostramos la imagen con la prediccion\n",
        "Image(filename='/content/yolov5/runs/train/exp2/img_test2.jpg', width=500)"
      ],
      "metadata": {
        "id": "FmnUt0yJaIF6"
      },
      "execution_count": null,
      "outputs": []
    },
    {
      "cell_type": "code",
      "source": [
        "!python detect.py --weights '/content/yolov5/runs/train/exp2/weights/best.pt' --img 416 --conf 0.1 --source '/content/yolov5/runs/train/exp2/img_test2.jpg'"
      ],
      "metadata": {
        "id": "-K7UDF6XXDiH"
      },
      "execution_count": null,
      "outputs": []
    },
    {
      "cell_type": "code",
      "source": [
        "#Mostramos la imagen con la prediccion\n",
        "Image(filename='/content/yolov5/runs/detect/exp/img_test2.jpg', width=500)"
      ],
      "metadata": {
        "id": "bDUJBM03ZkOu"
      },
      "execution_count": null,
      "outputs": []
    },
    {
      "cell_type": "code",
      "source": [
        "#Mostramos la imagen con la prediccion\n",
        "Image(filename='/content/yolov5/runs/train/exp2/img_test1.jpg', width=500)"
      ],
      "metadata": {
        "id": "v8vqDRYvbS0K"
      },
      "execution_count": null,
      "outputs": []
    },
    {
      "cell_type": "code",
      "source": [
        "!python detect.py --weights '/content/yolov5/runs/train/exp2/weights/best.pt' --img 416 --conf 0.1 --source '/content/yolov5/runs/train/exp2/img_test1.jpg'"
      ],
      "metadata": {
        "id": "nihOKon5bYYP"
      },
      "execution_count": null,
      "outputs": []
    },
    {
      "cell_type": "code",
      "source": [
        "#Mostramos la imagen con la prediccion\n",
        "Image(filename='/content/yolov5/runs/detect/exp3/img_test1.jpg', width=500)"
      ],
      "metadata": {
        "id": "JKPpKG0tbdxQ"
      },
      "execution_count": null,
      "outputs": []
    },
    {
      "cell_type": "code",
      "source": [
        "!python detect.py --weights '/content/yolov5/runs/train/exp2/weights/best.pt' --img 416 --conf 0.1 --source '/content/yolov5/runs/train/exp2/img_test3.jpg'"
      ],
      "metadata": {
        "id": "qXXGnnK1b3bd"
      },
      "execution_count": null,
      "outputs": []
    },
    {
      "cell_type": "code",
      "source": [
        "#Mostramos la imagen con la prediccion\n",
        "Image(filename='/content/yolov5/runs/detect/exp4/img_test3.jpg', width=500)"
      ],
      "metadata": {
        "id": "-ZQf7TwXb_X2"
      },
      "execution_count": null,
      "outputs": []
    },
    {
      "cell_type": "markdown",
      "source": [
        "### Exportacion del modelo a engine, onnx, tensowflow lite"
      ],
      "metadata": {
        "id": "P-1-YrkwxCtN"
      }
    },
    {
      "cell_type": "code",
      "source": [
        "!python export.py --weights '/content/yolov5/runs/train/exp2/weights/best.pt' --include tflite  --img 416 "
      ],
      "metadata": {
        "id": "ufvs8sCOaYs9"
      },
      "execution_count": null,
      "outputs": []
    },
    {
      "cell_type": "code",
      "source": [
        "!python detect.py --weights '/content/yolov5/runs/train/exp2/weights/best-fp16.tflite' --img 416 --conf 0.1 --source '/content/yolov5/runs/train/exp2/img_test2.jpg'"
      ],
      "metadata": {
        "id": "TenaAvnociEH"
      },
      "execution_count": null,
      "outputs": []
    },
    {
      "cell_type": "code",
      "source": [
        "!python export.py --weights '/content/yolov5/runs/train/exp2/weights/best-fp16.tflite' --include engine onnx --data {dataset.location}/data.yaml --device 0 --imgsz 640 640\n",
        "clear_output()"
      ],
      "metadata": {
        "id": "7YwRulqhtpNx"
      },
      "execution_count": null,
      "outputs": []
    },
    {
      "cell_type": "code",
      "source": [
        "# Uncomment all this if you want to follow the long path\n",
        "!pip install onnx>=1.7.0 # for ONNX export\n",
        "!pip install coremltools==4.0 # for CoreML export\n",
        "!python models/export.py --weights /content/yolov5/runs/train/exp2/weights/best.pt --img 416 --batch 1 # export at 640x640 with batch size 1\n",
        " \n",
        "!pip install tensorflow-addons\n",
        "!pip install onnx-tf\n",
        " \n",
        "import tensorflow_addons as tfa\n",
        "import onnx\n",
        "from onnx_tf.backend import prepare\n",
        "import tensorflow as tf\n",
        "print(tf.__version__)\n",
        " "
      ],
      "metadata": {
        "id": "IsunGFqsrO9y"
      },
      "execution_count": null,
      "outputs": []
    },
    {
      "cell_type": "code",
      "source": [
        "!python export.py --weights '/content/yolov5/runs/train/yolov5l_results/weights/best.pt' --include tflite --data {dataset.location}/data.yaml --device 0 --imgsz 416 416\n"
      ],
      "metadata": {
        "id": "Qym3yTZx0SER"
      },
      "execution_count": null,
      "outputs": []
    }
  ]
}